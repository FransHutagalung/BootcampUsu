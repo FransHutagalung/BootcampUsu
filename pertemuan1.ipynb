{
  "nbformat": 4,
  "nbformat_minor": 0,
  "metadata": {
    "colab": {
      "provenance": [],
      "toc_visible": true,
      "mount_file_id": "1Gs1bMpljCdIqFIZMnYM8Ps30zk-BG2ca",
      "authorship_tag": "ABX9TyNaOzxQwok4vFeOphNMWT9C",
      "include_colab_link": true
    },
    "kernelspec": {
      "name": "python3",
      "display_name": "Python 3"
    },
    "language_info": {
      "name": "python"
    }
  },
  "cells": [
    {
      "cell_type": "markdown",
      "metadata": {
        "id": "view-in-github",
        "colab_type": "text"
      },
      "source": [
        "<a href=\"https://colab.research.google.com/github/FransHutagalung/BootcampUsu/blob/main/pertemuan1.ipynb\" target=\"_parent\"><img src=\"https://colab.research.google.com/assets/colab-badge.svg\" alt=\"Open In Colab\"/></a>"
      ]
    },
    {
      "cell_type": "markdown",
      "source": [
        "# Python Struktur Data"
      ],
      "metadata": {
        "id": "c5rmbB378dSS"
      }
    },
    {
      "cell_type": "markdown",
      "source": [
        "4 Struktur data pada python\n",
        "List , Tuple , Set , dan Dictionary\n"
      ],
      "metadata": {
        "id": "J6glNDy_80qZ"
      }
    },
    {
      "cell_type": "markdown",
      "source": [
        "## Tuple\n"
      ],
      "metadata": {
        "id": "tjg396289Kd1"
      }
    },
    {
      "cell_type": "markdown",
      "source": [
        "Tuple adalah struktur data di python yang digunakan unrtuk menyimpan beberapa objek di dalam satu variabel . Tuple memiliki urutan dan tidak dapat diubah\n",
        "\n",
        "Karakteristik Tuple\n",
        "- Immutable (tidak dapat diubah): Setelah tuple dibuat, isinya tidak dapat dimodifikasi, ditambahkan, atau dihapus.\n",
        "- Ordered (berurutan): Item dalam tuple memiliki urutan tertentu yang tidak berubah.\n",
        "- Heterogen: Tuple dapat berisi berbagai tipe data (string, integer, float, bahkan tuple lain).\n",
        "- Indexing: Item dalam tuple dapat diakses melalui indeks (dimulai dari 0)."
      ],
      "metadata": {
        "id": "EQ8l9Oj89REX"
      }
    },
    {
      "cell_type": "code",
      "execution_count": null,
      "metadata": {
        "colab": {
          "base_uri": "https://localhost:8080/"
        },
        "id": "0ggSm3QU6XMZ",
        "outputId": "f5acb766-448b-49e8-c6a0-b6b234be4665"
      },
      "outputs": [
        {
          "output_type": "stream",
          "name": "stdout",
          "text": [
            "('Senin', 'Selasa', 'Rabu', 'Kamis', 'Jumat', 'Sabtu', 'Minggu')\n"
          ]
        }
      ],
      "source": [
        "nama_hari = (\"Senin\", \"Selasa\", \"Rabu\", \"Kamis\", \"Jumat\", \"Sabtu\", \"Minggu\")\n",
        "print(nama_hari)"
      ]
    },
    {
      "cell_type": "markdown",
      "source": [
        "### Tuple Indexing\n"
      ],
      "metadata": {
        "id": "ZX1KnbXKA3Ky"
      }
    },
    {
      "cell_type": "markdown",
      "source": [
        "Tuple indexing adalah metode untuk mengakses elemen individual di dalam tuple berdasarkan posisinya. Dalam Python, indeks selalu dimulai dari 0 untuk elemen pertama.\n",
        "Karakteristik Tuple Indexing\n",
        "\n",
        "Zero-based indexing: Elemen pertama pada tuple memiliki indeks 0\n",
        "Indeks positif: Menghitung dari awal tuple (0, 1, 2, ...)\n",
        "Indeks negatif: Menghitung dari akhir tuple (-1, -2, -3, ...)\n",
        "Immutable access: Mengakses elemen dengan indeks tidak mengubah tuple asli"
      ],
      "metadata": {
        "id": "Q6-tOGt_AVHi"
      }
    },
    {
      "cell_type": "code",
      "source": [
        "# mulai dari depan\n",
        "print(nama_hari[1], nama_hari[4])\n",
        "\n",
        "# mulai dari belakang\n",
        "print(nama_hari[-1], nama_hari[-2])"
      ],
      "metadata": {
        "colab": {
          "base_uri": "https://localhost:8080/"
        },
        "id": "i_0TEgtRAZ7P",
        "outputId": "c55cd7d1-7a4f-4bf2-eaf9-1fc01766f73d"
      },
      "execution_count": null,
      "outputs": [
        {
          "output_type": "stream",
          "name": "stdout",
          "text": [
            "Selasa Jumat\n",
            "Minggu Sabtu\n"
          ]
        }
      ]
    },
    {
      "cell_type": "markdown",
      "source": [
        "#### Tuple Nested Indexing"
      ],
      "metadata": {
        "id": "M8pU-XCiETf3"
      }
    },
    {
      "cell_type": "markdown",
      "source": [
        "Untuk tuple bersarang, gunakan multiple indexing:"
      ],
      "metadata": {
        "id": "nWmQ5tdnEo9t"
      }
    },
    {
      "cell_type": "code",
      "source": [
        "nested = ((1, 2), (3, 4), (5, 6))\n",
        "\n",
        "\n",
        "print(nested[1])\n",
        "print(nested[1][0])"
      ],
      "metadata": {
        "colab": {
          "base_uri": "https://localhost:8080/"
        },
        "id": "W4RptfIXEXla",
        "outputId": "14619a89-e5d0-4e08-913c-818f978cac8f"
      },
      "execution_count": null,
      "outputs": [
        {
          "output_type": "stream",
          "name": "stdout",
          "text": [
            "(3, 4)\n",
            "3\n"
          ]
        }
      ]
    },
    {
      "cell_type": "markdown",
      "source": [
        "### Tuple Slicing"
      ],
      "metadata": {
        "id": "vpURF7xbAslS"
      }
    },
    {
      "cell_type": "markdown",
      "source": [
        "Tuple slicing adalah teknik untuk mengambil sebagian elemen (subset) dari sebuah tuple. Dengan slicing , kita bisa mengekstrak beberapa elemen berurutan dari tuple asli dan mendapatkan tuple baru dengan elemen-elemen tersebut.\n"
      ],
      "metadata": {
        "id": "IZYI8Z_OBI8n"
      }
    },
    {
      "cell_type": "code",
      "source": [
        "band = (\"AC/DC\",\"Dreamtheater\",\"Metallica\",\"Slipknot\",\"The Police\",\"Led Zeppelin\",\"Pink Floyd\",\"Genesis\")\n",
        "print(band[0:4])"
      ],
      "metadata": {
        "colab": {
          "base_uri": "https://localhost:8080/"
        },
        "id": "v2TK214_B81m",
        "outputId": "8eb98d00-a7e5-4d65-866a-4a54e1791273"
      },
      "execution_count": null,
      "outputs": [
        {
          "output_type": "stream",
          "name": "stdout",
          "text": [
            "('AC/DC', 'Dreamtheater', 'Metallica', 'Slipknot')\n"
          ]
        }
      ]
    },
    {
      "cell_type": "markdown",
      "source": [
        "Slicing yang baru saja kita lakukan adalah dari index 0 sampai sebelum indeks ke 4. Artinya, kita melakukan Slicing kearah kanan. Kita juga bisa melakukan Slicing kearah kiri, atau secara negatif. Saat slicing negatif dilakukan, ingat bahwa elemen paling terakhir berindeks -1. Contohnya :"
      ],
      "metadata": {
        "id": "KXsf4qQmCMgf"
      }
    },
    {
      "cell_type": "code",
      "source": [
        "print(band[-7:-1])"
      ],
      "metadata": {
        "colab": {
          "base_uri": "https://localhost:8080/"
        },
        "id": "mwq_VcLnCXAy",
        "outputId": "fb24ec91-9941-4dc6-dfa2-38e9a66c0170"
      },
      "execution_count": null,
      "outputs": [
        {
          "output_type": "stream",
          "name": "stdout",
          "text": [
            "('Dreamtheater', 'Metallica', 'Slipknot', 'The Police', 'Led Zeppelin', 'Pink Floyd')\n"
          ]
        }
      ]
    },
    {
      "cell_type": "markdown",
      "source": [
        "Karena Slicing ke kiri menggunakan angka minus sebagai index,\n",
        "**tetap selalu inget bahwa slicing dimulai dari index yang lebih rendah, agar anda tidak terkecoh.**"
      ],
      "metadata": {
        "id": "UTJ_lCtpCogz"
      }
    },
    {
      "cell_type": "markdown",
      "source": [
        "### Tuple Count\n"
      ],
      "metadata": {
        "id": "DCaUFpZSC1Em"
      }
    },
    {
      "cell_type": "markdown",
      "source": [
        "Metode count() pada tuple digunakan untuk menghitung berapa kali suatu elemen muncul dalam tuple. Ini adalah salah satu dari sedikit metode bawaan yang tersedia untuk tuple, karena sifat tuple yang immutable."
      ],
      "metadata": {
        "id": "0VIUZL5oC5sF"
      }
    },
    {
      "cell_type": "code",
      "source": [
        "#Deklarasi tuple dan isinya\n",
        "nilai_Praktikan = (100, 55, 92, 93, 94, 100, 87, 65, 66, 100)"
      ],
      "metadata": {
        "id": "yN7wZWh-DCiA"
      },
      "execution_count": null,
      "outputs": []
    },
    {
      "cell_type": "code",
      "source": [
        "#Kita ingin menghitung berapa banyak praktikan dengan nilai 100\n",
        "nilai_Praktikan.count(100)"
      ],
      "metadata": {
        "colab": {
          "base_uri": "https://localhost:8080/"
        },
        "id": "D9ZnAUtlDIYC",
        "outputId": "fb973b08-5829-4146-dbbc-931acc277488"
      },
      "execution_count": null,
      "outputs": [
        {
          "output_type": "execute_result",
          "data": {
            "text/plain": [
              "3"
            ]
          },
          "metadata": {},
          "execution_count": 8
        }
      ]
    },
    {
      "cell_type": "markdown",
      "source": [
        "### Tuple Len"
      ],
      "metadata": {
        "id": "MpX_z-IRDVOj"
      }
    },
    {
      "cell_type": "markdown",
      "source": [
        "Fungsi len() pada tuple digunakan untuk mendapatkan jumlah total elemen yang ada dalam tuple. Ini adalah fungsi bawaan Python yang bisa digunakan untuk berbagai tipe data sekuensial, termasuk tuple."
      ],
      "metadata": {
        "id": "Pl6niUAgDY_j"
      }
    },
    {
      "cell_type": "code",
      "source": [
        "len(nilai_Praktikan)"
      ],
      "metadata": {
        "colab": {
          "base_uri": "https://localhost:8080/"
        },
        "id": "L17YXiOADgss",
        "outputId": "b5d4285e-dd7b-4cbf-b13e-77af0702d697"
      },
      "execution_count": null,
      "outputs": [
        {
          "output_type": "execute_result",
          "data": {
            "text/plain": [
              "10"
            ]
          },
          "metadata": {},
          "execution_count": 9
        }
      ]
    },
    {
      "cell_type": "markdown",
      "source": [
        "### Tuple Index"
      ],
      "metadata": {
        "id": "NjkglAtUDnPU"
      }
    },
    {
      "cell_type": "markdown",
      "source": [
        "Metode index() pada tuple digunakan untuk menemukan indeks dari elemen tertentu yang pertama kali muncul dalam tuple. Ini memungkinkan Anda mencari posisi suatu nilai di dalam tuple."
      ],
      "metadata": {
        "id": "c9xJnnlLDqzw"
      }
    },
    {
      "cell_type": "code",
      "source": [
        "nilai_Praktikan.index(66)"
      ],
      "metadata": {
        "colab": {
          "base_uri": "https://localhost:8080/"
        },
        "id": "xO4K3Y-XDuC1",
        "outputId": "dfeab753-8b74-440e-dbb3-7873251d1bff"
      },
      "execution_count": null,
      "outputs": [
        {
          "output_type": "execute_result",
          "data": {
            "text/plain": [
              "8"
            ]
          },
          "metadata": {},
          "execution_count": 10
        }
      ]
    },
    {
      "cell_type": "code",
      "source": [
        "buah = (\"apel\", \"jeruk\", \"pisang\", \"mangga\", \"jeruk\", \"anggur\")\n",
        "print(buah.index(\"jeruk\", 2)) # akan mencari jeruk mulai dari indeks 2"
      ],
      "metadata": {
        "colab": {
          "base_uri": "https://localhost:8080/"
        },
        "id": "Dvllx_wqEyNL",
        "outputId": "4ce47e7e-eda3-464f-d628-d54045e886ee"
      },
      "execution_count": null,
      "outputs": [
        {
          "output_type": "stream",
          "name": "stdout",
          "text": [
            "4\n"
          ]
        }
      ]
    },
    {
      "cell_type": "code",
      "source": [
        "print(buah.index(\"mangga\", 1, 5))  # akan mencari mangga dari indeks 1 ke 5"
      ],
      "metadata": {
        "colab": {
          "base_uri": "https://localhost:8080/"
        },
        "id": "hAkI0AGmE_jI",
        "outputId": "94eddee2-ae42-40ec-eb04-b60ca326a3c6"
      },
      "execution_count": null,
      "outputs": [
        {
          "output_type": "stream",
          "name": "stdout",
          "text": [
            "3\n"
          ]
        }
      ]
    },
    {
      "cell_type": "markdown",
      "source": [
        "## List"
      ],
      "metadata": {
        "id": "_nz8C9K39byB"
      }
    },
    {
      "cell_type": "markdown",
      "source": [
        "List adalah salah satu struktur data paling serbaguna di Python. List merupakan koleksi item yang berurutan dan dapat diubah (mutable). Berbeda dengan tuple yang immutable, list memungkinkan Anda untuk menambah, menghapus, dan memodifikasi elemen-elemennya setelah dibuat.\n",
        "\n",
        "Karakteristik List\n",
        "\n",
        "- Mutable (dapat diubah): Anda bisa menambah, menghapus, atau mengubah elemen setelah list dibuat\n",
        "- Ordered (berurutan): Elemen-elemen memiliki urutan tertentu dan dapat diakses dengan indeks\n",
        "- Heterogen: Dapat menyimpan berbagai tipe data sekaligus (integer, string, objek, dll)\n",
        "- Dinamis: Ukuran list dapat bertambah atau berkurang sesuai kebutuhan"
      ],
      "metadata": {
        "id": "NwwW-yAI9zXX"
      }
    },
    {
      "cell_type": "code",
      "source": [
        "list_1 = [1000, 250, 151, 50]"
      ],
      "metadata": {
        "id": "x9krXRYQFjCE"
      },
      "execution_count": null,
      "outputs": []
    },
    {
      "cell_type": "markdown",
      "source": [
        "List Juga Memiliki Ururan dari indeks 0"
      ],
      "metadata": {
        "id": "-Ug3cr-hNKhY"
      }
    },
    {
      "cell_type": "code",
      "source": [
        "list_1[3] = 15\n",
        "print(list_1)"
      ],
      "metadata": {
        "colab": {
          "base_uri": "https://localhost:8080/"
        },
        "id": "mxf1CY0nNOJl",
        "outputId": "5ee2971d-3124-4d02-b212-2eb122399d6a"
      },
      "execution_count": null,
      "outputs": [
        {
          "output_type": "stream",
          "name": "stdout",
          "text": [
            "[1000, 250, 151, 15]\n"
          ]
        }
      ]
    },
    {
      "cell_type": "markdown",
      "source": [
        "Kita juga memiliki beberapa fungsi untuk menambahkan elemen kedalam list, yaitu append(), insert(), dan extend(). Ketiganya akan menambahkan elemen baru di list, antara di suatu posisi yang telah kita sebutkan, atau di posisi paling belakang."
      ],
      "metadata": {
        "id": "PYQIsv6DNUQx"
      }
    },
    {
      "cell_type": "markdown",
      "source": [
        "### List Append"
      ],
      "metadata": {
        "id": "mYMSrpKfNZwL"
      }
    },
    {
      "cell_type": "markdown",
      "source": [
        "metode yang digunakan untuk menambahkan elemen ke akhir list yang sudah ada. Metode ini tidak mengembalikan nilai (None), tetapi langsung memodifikasi list yang dipanggil."
      ],
      "metadata": {
        "id": "MXKnXGBsNfNf"
      }
    },
    {
      "cell_type": "code",
      "source": [
        "list_1.append(15)\n",
        "print(list_1)"
      ],
      "metadata": {
        "colab": {
          "base_uri": "https://localhost:8080/"
        },
        "id": "Y3a2SH-RNs-F",
        "outputId": "31cc4105-2f04-4c0f-958f-803b48a08b9c"
      },
      "execution_count": null,
      "outputs": [
        {
          "output_type": "stream",
          "name": "stdout",
          "text": [
            "[1000, 250, 151, 15, 15]\n"
          ]
        }
      ]
    },
    {
      "cell_type": "markdown",
      "source": [
        "\n",
        "Lalu, bagaimana jika yang ingin kita lakukan adalah menambah sebuah elemen baru di index ke-2? Disini, fungsi yang bisa kita gunakan adalah insert. Insert memiliki 2 parameter, yaitu posisi yang kita inginkan, dan elemen yang ingin kita masukkan. Contohnya :"
      ],
      "metadata": {
        "id": "j7t7p6LcN0WE"
      }
    },
    {
      "cell_type": "code",
      "source": [
        "list_1.insert(2, 100)\n",
        "print(list_1)"
      ],
      "metadata": {
        "colab": {
          "base_uri": "https://localhost:8080/"
        },
        "id": "fNzCESwCN1Zl",
        "outputId": "3e6057a0-6bf2-4a80-d391-a7bb0f40c755"
      },
      "execution_count": null,
      "outputs": [
        {
          "output_type": "stream",
          "name": "stdout",
          "text": [
            "[1000, 250, 100, 151, 15, 15]\n"
          ]
        }
      ]
    },
    {
      "cell_type": "markdown",
      "source": [
        "Seperti yang kita lihat, fungsi insert akan menggeser elemen 2 dan seterusnya 1 posisi kekanan, lalu ia memasukkan 100 ke index-2."
      ],
      "metadata": {
        "id": "8monWuCvN_1M"
      }
    },
    {
      "cell_type": "markdown",
      "source": [
        "### List Extend"
      ],
      "metadata": {
        "id": "12BL2JEnOOzk"
      }
    },
    {
      "cell_type": "markdown",
      "source": [
        "metode yang digunakan untuk menambahkan elemen dari iterable (seperti list, tuple, atau set) ke akhir list. Tidak seperti append() yang menambahkan elemen sebagai satu entitas, extend() akan membuka isi dari iterable dan menambahkannya sebagai elemen individu ke dalam list."
      ],
      "metadata": {
        "id": "RFq8yMiSORet"
      }
    },
    {
      "cell_type": "code",
      "source": [
        "list_2 = [11, 12, 13, 99, 55]\n",
        "list_1.extend(list_2)\n",
        "print(list_1)"
      ],
      "metadata": {
        "colab": {
          "base_uri": "https://localhost:8080/"
        },
        "id": "vSWuq3PhOXsK",
        "outputId": "c0b010d1-b1ae-43a3-ae32-a6015872ba72"
      },
      "execution_count": null,
      "outputs": [
        {
          "output_type": "stream",
          "name": "stdout",
          "text": [
            "[1000, 250, 100, 151, 15, 15, 11, 12, 13, 99, 55]\n"
          ]
        }
      ]
    },
    {
      "cell_type": "markdown",
      "source": [
        "Lalu, bagaimana jika kita ingin menghapus elemen pada list? Kita gunakan fungsi pop(). Fungsi ini akan menghapus elemen yang kita sebutkan indeksnya dalam parameter. Contohnya :"
      ],
      "metadata": {
        "id": "WKaYCwaXOmPc"
      }
    },
    {
      "cell_type": "markdown",
      "source": [
        "### List Pop"
      ],
      "metadata": {
        "id": "4RMl9uDkOqsw"
      }
    },
    {
      "cell_type": "markdown",
      "source": [
        "metode yang digunakan untuk menghapus dan mengembalikan elemen dari list berdasarkan indeks tertentu. Jika tidak ada indeks yang diberikan, maka elemen terakhir dalam list akan dihapus dan dikembalikan."
      ],
      "metadata": {
        "id": "VPINSymuOs3Q"
      }
    },
    {
      "cell_type": "code",
      "source": [
        "list_1.pop(10)\n",
        "list_1"
      ],
      "metadata": {
        "colab": {
          "base_uri": "https://localhost:8080/"
        },
        "id": "kub6LXV7OwLE",
        "outputId": "7380ee88-52b6-49f6-98dc-b4a396028115"
      },
      "execution_count": null,
      "outputs": [
        {
          "output_type": "execute_result",
          "data": {
            "text/plain": [
              "[1000, 250, 100, 151, 15, 15, 11, 12, 13, 99]"
            ]
          },
          "metadata": {},
          "execution_count": 7
        }
      ]
    },
    {
      "cell_type": "markdown",
      "source": [
        "Kita juga memiliki fungsi sort() dan reverse() yang akan mengurutkan list dengan cepat. Fungsi sort() akan mengurutkan secara ascending, sedangkan reverse() akan mengurutkan secara descending. Contohnya :"
      ],
      "metadata": {
        "id": "vfs9JcSoO6M9"
      }
    },
    {
      "cell_type": "markdown",
      "source": [
        "### List Sort"
      ],
      "metadata": {
        "id": "EFkxqy3zPA5r"
      }
    },
    {
      "cell_type": "markdown",
      "source": [
        "metode yang digunakan untuk mengurutkan elemen dalam list secara ascending (menaik) secara default. Jika ingin mengurutkan secara descending (menurun) atau dengan aturan kustom, bisa menggunakan parameter tambahan."
      ],
      "metadata": {
        "id": "sqZ1tSLcPC19"
      }
    },
    {
      "cell_type": "code",
      "source": [
        "#Sort secara ascending\n",
        "list_1.sort()\n",
        "print(list_1)\n",
        "\n",
        "#Reverse secara descending\n",
        "list_1.reverse()\n",
        "print(list_1)"
      ],
      "metadata": {
        "colab": {
          "base_uri": "https://localhost:8080/"
        },
        "id": "NjUDyRTOPM36",
        "outputId": "1a1f25f7-3c2f-4f3b-f04b-55a0daa29de0"
      },
      "execution_count": null,
      "outputs": [
        {
          "output_type": "stream",
          "name": "stdout",
          "text": [
            "[11, 12, 13, 15, 15, 99, 100, 151, 250, 1000]\n",
            "[1000, 250, 151, 100, 99, 15, 15, 13, 12, 11]\n"
          ]
        }
      ]
    },
    {
      "cell_type": "markdown",
      "source": [
        "Kita juga memiliki fungsi len() di list, sehingga kita juga bisa melihat dengan panjang dari suatu list. List juga memliki index() dan count(), sama seperti tuple. Slicing juga bisa dilakukan pada list seperti tuple."
      ],
      "metadata": {
        "id": "zs06-C9iPQTW"
      }
    },
    {
      "cell_type": "markdown",
      "source": [
        "## Set"
      ],
      "metadata": {
        "id": "dfebJTroQgft"
      }
    },
    {
      "cell_type": "markdown",
      "source": [
        "Set bisa dibayangkan sebagai sebuah himpunan. Tentunya, didalam sebuah himpunan, tidak boleh ada elemen dengan nilai yang sama. Begitu juga dengan sebuah Set. Set juga tidak memiliki urutan, sehingga ia tidak memiliki indeks yang bisa dipanggil."
      ],
      "metadata": {
        "id": "ddW-I2XVQjaT"
      }
    },
    {
      "cell_type": "markdown",
      "source": [
        "set adalah tipe data yang digunakan untuk menyimpan sekumpulan elemen unik (tidak ada elemen duplikat) dalam satu variabel. Set bersifat tidak berurutan dan tidak dapat diakses menggunakan indeks seperti list atau tuple."
      ],
      "metadata": {
        "id": "mus3fD_UQnfb"
      }
    },
    {
      "cell_type": "code",
      "source": [
        "set_of_Odds = {1,3,5,7,9,11}\n",
        "print(set_of_Odds)"
      ],
      "metadata": {
        "colab": {
          "base_uri": "https://localhost:8080/"
        },
        "id": "fQYGuDoAQred",
        "outputId": "6930cd8d-05cc-4a21-8ead-99a19bf0e38f"
      },
      "execution_count": null,
      "outputs": [
        {
          "output_type": "stream",
          "name": "stdout",
          "text": [
            "{1, 3, 5, 7, 9, 11}\n"
          ]
        }
      ]
    },
    {
      "cell_type": "markdown",
      "source": [
        "### Set Add"
      ],
      "metadata": {
        "id": "FEaa3UqaSGVo"
      }
    },
    {
      "cell_type": "markdown",
      "source": [
        "set.add() pada Python digunakan untuk menambahkan elemen baru ke dalam sebuah set. Jika elemen yang ditambahkan sudah ada di dalam set, maka elemen tersebut tidak akan ditambahkan karena set hanya menyimpan elemen unik."
      ],
      "metadata": {
        "id": "cFMEV6SGSH3w"
      }
    },
    {
      "cell_type": "code",
      "source": [
        "set_of_Odds.add(150)\n",
        "print(set_of_Odds)"
      ],
      "metadata": {
        "colab": {
          "base_uri": "https://localhost:8080/"
        },
        "id": "iw4lrHaYSO-q",
        "outputId": "82dc6775-023c-48b4-af75-917169484780"
      },
      "execution_count": null,
      "outputs": [
        {
          "output_type": "stream",
          "name": "stdout",
          "text": [
            "{1, 3, 5, 150, 7, 9, 11}\n"
          ]
        }
      ]
    },
    {
      "cell_type": "markdown",
      "source": [
        "### Set Remove"
      ],
      "metadata": {
        "id": "VwOk0MxOSX04"
      }
    },
    {
      "cell_type": "markdown",
      "source": [
        "set.remove() pada Python digunakan untuk menghapus elemen tertentu dari sebuah set. Jika elemen yang dihapus tidak ditemukan dalam set, maka akan terjadi KeyError."
      ],
      "metadata": {
        "id": "3zAR4ScrSaVM"
      }
    },
    {
      "cell_type": "code",
      "source": [
        "set_of_Odds.remove(11)\n",
        "print(set_of_Odds)"
      ],
      "metadata": {
        "colab": {
          "base_uri": "https://localhost:8080/"
        },
        "id": "x_Ri2u0QSmx4",
        "outputId": "b9d6f40b-1376-4be5-f6f7-912a7cb05f9f"
      },
      "execution_count": null,
      "outputs": [
        {
          "output_type": "stream",
          "name": "stdout",
          "text": [
            "{1, 3, 5, 150, 7, 9}\n"
          ]
        }
      ]
    },
    {
      "cell_type": "code",
      "source": [
        "for number in set_of_Odds:\n",
        "  print(number, \" is odd\")"
      ],
      "metadata": {
        "colab": {
          "base_uri": "https://localhost:8080/"
        },
        "id": "u8O0JSGISsII",
        "outputId": "9c818aee-adb4-400d-c566-59c8a204eec6"
      },
      "execution_count": null,
      "outputs": [
        {
          "output_type": "stream",
          "name": "stdout",
          "text": [
            "1  is odd\n",
            "3  is odd\n",
            "5  is odd\n",
            "150  is odd\n",
            "7  is odd\n",
            "9  is odd\n"
          ]
        }
      ]
    },
    {
      "cell_type": "code",
      "source": [
        "prime_Starter = [2, 3, 5, 7]\n",
        "set_of_Prime = set()\n",
        "for i in range(0, 21):\n",
        "  if(i % 2 !=0) and (i % 3 != 0) and (i % 5!=0) and (i % 7!=0) and (i != 1) or (i in prime_Starter):\n",
        "    set_of_Prime.add(i)\n",
        "\n",
        "total = 0\n",
        "for prime in set_of_Prime:\n",
        "  print(prime)\n",
        "  total += prime\n",
        "\n",
        "print(\"Total bilangan prima dari 1 hingga 20 adalah : \", total)"
      ],
      "metadata": {
        "colab": {
          "base_uri": "https://localhost:8080/"
        },
        "id": "LQMQ_Wn8Sv0w",
        "outputId": "e7b55f82-b589-472a-a89f-0e9b46ff5a9f"
      },
      "execution_count": null,
      "outputs": [
        {
          "output_type": "stream",
          "name": "stdout",
          "text": [
            "2\n",
            "3\n",
            "5\n",
            "7\n",
            "11\n",
            "13\n",
            "17\n",
            "19\n",
            "Total bilangan prima dari 1 hingga 20 adalah :  77\n"
          ]
        }
      ]
    },
    {
      "cell_type": "markdown",
      "source": [
        "## Dictionary"
      ],
      "metadata": {
        "id": "-wU7Qh0_UIwL"
      }
    },
    {
      "cell_type": "markdown",
      "source": [
        "Dictionary berarti kamus. Sama seperti kamus, jika kita ingin mengakses sebuah makna kata, kita harus mencari kuncinya, yaitu kata tersebut. Tiap kata akan menjadi penunjuk terhadap maknanya. Begitu juga pada dictionary."
      ],
      "metadata": {
        "id": "EPdIv_vZTGCW"
      }
    },
    {
      "cell_type": "markdown",
      "source": [
        "Dictionary terdiri atas dua jenis elemen, key dan value. Key akan menjadi penunjuk pada suatu value, sama seperti sebuah kata menunjuk pada maknanya di dalam kamus. Dictionary dideklarasikan dengan {}. Contohnya :"
      ],
      "metadata": {
        "id": "AdNS_l3tTMKe"
      }
    },
    {
      "cell_type": "code",
      "source": [
        "dict_Kesukaan = {'Makanan':'Mieeeeee', 'Minuman':'Susuuuuuu', 'Warna':'Black'}\n",
        "print(dict_Kesukaan)"
      ],
      "metadata": {
        "colab": {
          "base_uri": "https://localhost:8080/"
        },
        "id": "RDqgUQvxTO31",
        "outputId": "93328fbe-84d4-496a-ce69-b0c80028b1f9"
      },
      "execution_count": null,
      "outputs": [
        {
          "output_type": "stream",
          "name": "stdout",
          "text": [
            "{'Makanan': 'Mieeeeee', 'Minuman': 'Susuuuuuu', 'Warna': 'Black'}\n"
          ]
        }
      ]
    },
    {
      "cell_type": "markdown",
      "source": [
        "Dictionary tidak memiliki urutan. Jadi, jika anda ingin mengakses suatu elemen value, maka anda perlu mengaksesnya menggunakan key. Contohnya :\n",
        "\n",
        "\n"
      ],
      "metadata": {
        "id": "Olm8wi8HTS1U"
      }
    },
    {
      "cell_type": "code",
      "source": [
        "dict_Kesukaan['Warna']"
      ],
      "metadata": {
        "colab": {
          "base_uri": "https://localhost:8080/",
          "height": 36
        },
        "id": "O2gqS-_jTVIX",
        "outputId": "333f3faf-450d-49c8-c087-1d5cfa295e23"
      },
      "execution_count": null,
      "outputs": [
        {
          "output_type": "execute_result",
          "data": {
            "text/plain": [
              "'Black'"
            ],
            "application/vnd.google.colaboratory.intrinsic+json": {
              "type": "string"
            }
          },
          "metadata": {},
          "execution_count": 15
        }
      ]
    },
    {
      "cell_type": "markdown",
      "source": [
        "Jika anda ingin mengakses semua key atau value, saja maka bisa gunakan fungsi keys() dan values(). Contohnya :"
      ],
      "metadata": {
        "id": "BPekZUg0TY9Z"
      }
    },
    {
      "cell_type": "code",
      "source": [
        "print(dict_Kesukaan.keys())\n",
        "print(dict_Kesukaan.values())"
      ],
      "metadata": {
        "colab": {
          "base_uri": "https://localhost:8080/"
        },
        "id": "9UaNf-CuTbyH",
        "outputId": "16dff7ad-41a1-468e-da97-f7b36e1b5907"
      },
      "execution_count": null,
      "outputs": [
        {
          "output_type": "stream",
          "name": "stdout",
          "text": [
            "dict_keys(['Makanan', 'Minuman', 'Warna'])\n",
            "dict_values(['Mieeeeee', 'Susuuuuuu', 'Black'])\n"
          ]
        }
      ]
    },
    {
      "cell_type": "markdown",
      "source": [
        "## Looping Dengan Struktur Data"
      ],
      "metadata": {
        "id": "T9RhAExMTeth"
      }
    },
    {
      "cell_type": "code",
      "source": [
        "#Contoh dengan Tuple\n",
        "\n",
        "data_Nilai_ujian = (15, 100, 25, 35, 80, 66)\n",
        "for data in data_Nilai_ujian:\n",
        "  if(data < 75):\n",
        "    print('Tidak lulus. Nilai anda : ', data)\n",
        "  else:\n",
        "    print('Lulus. Nilai anda : ', data)\n",
        "\n",
        "#Contoh dengan list\n",
        "data_Barang = ['Bola', 'Raket', 'Sekop']\n",
        "print('Barang yang kami jual adalah :')\n",
        "for barang in data_Barang:\n",
        "  print(barang)\n",
        "\n",
        "#Contoh dengan Set\n",
        "prima_Genap = {2}\n",
        "print('Daftar Bilangan Prima Genap : ')\n",
        "for angka in prima_Genap:\n",
        "  print(angka)\n",
        "\n",
        "#Contoh dengan dictionary\n",
        "dict_Kesukaan = {'Makanan':'Mieeeeee', 'Minuman':'Susuuuuuu', 'Warna':'Black'}\n",
        "print('Hal-hal yang disukai penulis : ')\n",
        "for kunci in dict_Kesukaan.keys() :\n",
        "  print(dict_Kesukaan[kunci])"
      ],
      "metadata": {
        "colab": {
          "base_uri": "https://localhost:8080/"
        },
        "id": "YO0PCtI8ThlE",
        "outputId": "d335040b-6fbb-4840-b2a8-bf7fb3e8f66d"
      },
      "execution_count": null,
      "outputs": [
        {
          "output_type": "stream",
          "name": "stdout",
          "text": [
            "Tidak lulus. Nilai anda :  15\n",
            "Lulus. Nilai anda :  100\n",
            "Tidak lulus. Nilai anda :  25\n",
            "Tidak lulus. Nilai anda :  35\n",
            "Lulus. Nilai anda :  80\n",
            "Tidak lulus. Nilai anda :  66\n",
            "Barang yang kami jual adalah :\n",
            "Bola\n",
            "Raket\n",
            "Sekop\n",
            "Daftar Bilangan Prima Genap : \n",
            "2\n",
            "Hal-hal yang disukai penulis : \n",
            "Mieeeeee\n",
            "Susuuuuuu\n",
            "Black\n"
          ]
        }
      ]
    },
    {
      "cell_type": "markdown",
      "source": [
        "## F String"
      ],
      "metadata": {
        "id": "5lHMZBAVUMiZ"
      }
    },
    {
      "cell_type": "markdown",
      "source": [
        "F-String atau dengan istilah lainnya String Formatting, adalah cara yang sekarang telah menjadi pilihan dalam mengatur penulisan string di Python. F-string juga membantu kita untuk lebih mudah melakukan penyesuaian yang kita inginkan terhadap string.\n",
        "\n",
        "F-string dimulai dengan menyisipkan huruf f sebelum mendeklarasikan string."
      ],
      "metadata": {
        "id": "oFSyoKqAURS9"
      }
    },
    {
      "cell_type": "code",
      "source": [
        "teks = f\"Pada Abad ke-19 dan ke-20, dunia dipenuhi dengan revolusi.\"\n",
        "print(teks)"
      ],
      "metadata": {
        "colab": {
          "base_uri": "https://localhost:8080/"
        },
        "id": "Y6C3bCxtUTvM",
        "outputId": "2181c127-1a26-4705-ed22-1596f7a58a92"
      },
      "execution_count": null,
      "outputs": [
        {
          "output_type": "stream",
          "name": "stdout",
          "text": [
            "Pada Abad ke-19 dan ke-20, dunia dipenuhi dengan revolusi.\n"
          ]
        }
      ]
    },
    {
      "cell_type": "markdown",
      "source": [
        "Untuk memformat nilai-nilai seperti variabel dalam f-string, kita gunakan placeholder (tempat penampung) dengan sintaks {}."
      ],
      "metadata": {
        "id": "_f1STUFIUW09"
      }
    },
    {
      "cell_type": "code",
      "source": [
        "pendapatan = 15000\n",
        "pengeluaran = 5000\n",
        "untung = pendapatan - pengeluaran\n",
        "print(f\"Keuntungan yang didapat sebesar : {untung}\")"
      ],
      "metadata": {
        "colab": {
          "base_uri": "https://localhost:8080/"
        },
        "id": "LSF09TRMUaFZ",
        "outputId": "5537872c-100b-41f2-c14f-a41f9b4605a7"
      },
      "execution_count": null,
      "outputs": [
        {
          "output_type": "stream",
          "name": "stdout",
          "text": [
            "Keuntungan yang didapat sebesar : 10000\n"
          ]
        }
      ]
    },
    {
      "cell_type": "markdown",
      "source": [
        "Placeholder juga dapat menampung tidak hanya sebuah variabel, tapi juga nilai, operator, dan juga fungsi."
      ],
      "metadata": {
        "id": "P6HxUmYiUeQa"
      }
    },
    {
      "cell_type": "code",
      "source": [
        "def keuntungan(pengeluaran, pendapatan):\n",
        "  return pendapatan - pengeluaran\n",
        "\n",
        "print(f\"Keuntungan yang didapat sebesar : {keuntungan(pengeluaran, pendapatan)}\")\n",
        "print(f\"Persentase terhadap pendapatan : {(keuntungan(pengeluaran, pendapatan) / pendapatan)*100}%\")\n",
        "\n",
        "# Kita juga bisa menggunakan fungsi bawaan Python seperti .lower() dan .upper() untuk string\n",
        "tawa = \"haHAha\"\n",
        "print(f\"Saat saya santai, tawa saya seperti : {tawa.lower()}, sedangkan saat marah : {tawa.upper()}\")"
      ],
      "metadata": {
        "colab": {
          "base_uri": "https://localhost:8080/"
        },
        "id": "X6vRv-NqUg-6",
        "outputId": "8e91f311-9739-4feb-b3f9-937d2e0c49de"
      },
      "execution_count": null,
      "outputs": [
        {
          "output_type": "stream",
          "name": "stdout",
          "text": [
            "Keuntungan yang didapat sebesar : 10000\n",
            "Persentase terhadap pendapatan : 66.66666666666666%\n",
            "Saat saya santai, tawa saya seperti : hahaha, sedangkan saat marah : HAHAHA\n"
          ]
        }
      ]
    },
    {
      "cell_type": "code",
      "source": [
        "print(f\"Keuntungan yang didapat sebesar : {keuntungan(pengeluaran, pendapatan)}\")\n",
        "print(f\"Persentase terhadap pendapatan : {(keuntungan(pengeluaran, pendapatan) / pendapatan)*100:.2f}%\")"
      ],
      "metadata": {
        "colab": {
          "base_uri": "https://localhost:8080/"
        },
        "id": "G-TJSX-MUldD",
        "outputId": "31be6ca4-985b-41ee-c550-326da90fe27d"
      },
      "execution_count": null,
      "outputs": [
        {
          "output_type": "stream",
          "name": "stdout",
          "text": [
            "Keuntungan yang didapat sebesar : 10000\n",
            "Persentase terhadap pendapatan : 66.67%\n"
          ]
        }
      ]
    },
    {
      "cell_type": "markdown",
      "source": [
        "# Latihan"
      ],
      "metadata": {
        "id": "vHYh1HxPGCFr"
      }
    },
    {
      "cell_type": "markdown",
      "source": [
        "## Soal NO 1"
      ],
      "metadata": {
        "id": "4PiVrzv7HVTp"
      }
    },
    {
      "cell_type": "markdown",
      "source": [
        "\n",
        "Definisikanlah 3 buah fungsi, yaitu:\n",
        "\n",
        "    Apakah sebuah bilangan positif atau tidak\n",
        "    Apakah sebuah bilangan ganjil atau genap\n",
        "    Apakah sebuah bilangan prima atau tidak (positif dan tidak bisa dibagi 2, 3, 5, dan 7)\n"
      ],
      "metadata": {
        "id": "dAkiB55RGJGs"
      }
    },
    {
      "cell_type": "code",
      "source": [
        "# fungsi bilangan positif\n",
        "def is_positif(num) :\n",
        "  return 'positif' if num > 0 else 'negatif'\n",
        "\n",
        "print(is_positif(10))\n",
        "print(is_positif(-2))"
      ],
      "metadata": {
        "colab": {
          "base_uri": "https://localhost:8080/"
        },
        "id": "zek7VVcyGQNi",
        "outputId": "69b56114-209b-45e8-d384-38b876eb6afa"
      },
      "execution_count": null,
      "outputs": [
        {
          "output_type": "stream",
          "name": "stdout",
          "text": [
            "positif\n",
            "negatif\n"
          ]
        }
      ]
    },
    {
      "cell_type": "code",
      "source": [
        "# fungsi bilangan ganjil\n",
        "def is_odd(num) :\n",
        "  return 'ganjil' if num % 2 == 1 else 'genap'\n",
        "\n",
        "print(is_odd(10))\n",
        "print(is_odd(3))"
      ],
      "metadata": {
        "colab": {
          "base_uri": "https://localhost:8080/"
        },
        "id": "bt-WgDW1Gacd",
        "outputId": "f45087ee-a870-49a3-a9b6-c2d21550c36f"
      },
      "execution_count": null,
      "outputs": [
        {
          "output_type": "stream",
          "name": "stdout",
          "text": [
            "genap\n",
            "ganjil\n"
          ]
        }
      ]
    },
    {
      "cell_type": "code",
      "source": [
        "def is_prime(num):\n",
        "  if num <= 1:\n",
        "    return False\n",
        "  if num <= 3:\n",
        "    return True\n",
        "  if num % 2 == 0 or num % 3 == 0:\n",
        "    return False\n",
        "  i = 5\n",
        "  while i * i <= num:\n",
        "    # print(f'i adalah {i}')\n",
        "    # print(f'num adalah {num}')\n",
        "    if num % i == 0 or num % (i + 2) == 0:\n",
        "      return False\n",
        "    i += 6\n",
        "  return True\n",
        "\n",
        "print(is_prime(10))\n",
        "# print(is_prime(3))\n",
        "# print(is_prime(17))"
      ],
      "metadata": {
        "colab": {
          "base_uri": "https://localhost:8080/"
        },
        "id": "XXTZy4g_H4vD",
        "outputId": "5c67f3f4-6b21-4c14-fa2a-47541f688c84"
      },
      "execution_count": null,
      "outputs": [
        {
          "output_type": "stream",
          "name": "stdout",
          "text": [
            "False\n"
          ]
        }
      ]
    },
    {
      "cell_type": "code",
      "source": [],
      "metadata": {
        "id": "p7JYowNYIXKG"
      },
      "execution_count": null,
      "outputs": []
    },
    {
      "cell_type": "markdown",
      "source": [
        "## Soal NO 2\n"
      ],
      "metadata": {
        "id": "UAsAV8PnIVgi"
      }
    },
    {
      "cell_type": "markdown",
      "source": [
        "\n",
        "Bentuklah sebuah struktur data berisikan setidaknya 10 bilangan. Kemudian, lakukanlah iterasi untuk setiap bilangan dengan 3 fungsi yang telah dibuat. Gunakan f-string untuk mengatur output program. Contoh Output:\n",
        "\n",
        "    11 adalah bilangan positif, ganjil, dan prima.\n",
        "    -22 adalah bilangan negatif, genap, dan tidak prima.\n",
        "\n"
      ],
      "metadata": {
        "id": "AKIOIuvzLegh"
      }
    },
    {
      "cell_type": "code",
      "source": [
        "list_data = (11, -22, 33, 44, 55, 66, 77, 88, 99, 100)\n",
        "\n",
        "def check() :\n",
        "  for num in list_data :\n",
        "    is_prime_num = 'prima' if is_prime(num) else 'tidak prima'\n",
        "    print(f'{num} adalah bilangan {is_positif(num)} , {is_odd(num)} , dan {is_prime_num}')\n",
        "\n",
        "\n",
        "check()"
      ],
      "metadata": {
        "colab": {
          "base_uri": "https://localhost:8080/"
        },
        "id": "wNoOegscLiyJ",
        "outputId": "8eaf685a-9cf8-460a-f1bb-83939ed8f05b"
      },
      "execution_count": null,
      "outputs": [
        {
          "output_type": "stream",
          "name": "stdout",
          "text": [
            "11 adalah bilangan positif , ganjil , dan prima\n",
            "-22 adalah bilangan negatif , genap , dan tidak prima\n",
            "33 adalah bilangan positif , ganjil , dan tidak prima\n",
            "44 adalah bilangan positif , genap , dan tidak prima\n",
            "55 adalah bilangan positif , ganjil , dan tidak prima\n",
            "66 adalah bilangan positif , genap , dan tidak prima\n",
            "77 adalah bilangan positif , ganjil , dan tidak prima\n",
            "88 adalah bilangan positif , genap , dan tidak prima\n",
            "99 adalah bilangan positif , ganjil , dan tidak prima\n",
            "100 adalah bilangan positif , genap , dan tidak prima\n"
          ]
        }
      ]
    }
  ]
}